{
 "cells": [
  {
   "cell_type": "markdown",
   "metadata": {
    "deletable": true,
    "editable": true
   },
   "source": [
    "# Vehicle Detection Project\n",
    "\n",
    "The goals / steps of this project are the following:\n",
    "\n",
    "* Perform a Histogram of Oriented Gradients (HOG) feature extraction on a labeled training set of images and train a classifier Linear SVM classifier\n",
    "* Optionally, apply a color transform and append binned color features, as well as histograms of color, to your HOG feature vector.\n",
    "* Implement a sliding-window technique and use your trained classifier to search for vehicles in images.\n",
    "* Run your pipeline on a video stream (start with the test_video.mp4 and later implement on full project_video.mp4) and create a heat map of recurring detections frame by frame to reject outliers and follow detected vehicles.\n",
    "* Estimate a bounding box for vehicles detected.\n",
    "\n",
    "---\n",
    "## 1. Feature Extraction"
   ]
  },
  {
   "cell_type": "code",
   "execution_count": 12,
   "metadata": {
    "collapsed": false,
    "deletable": true,
    "editable": true
   },
   "outputs": [],
   "source": [
    "import numpy as np\n",
    "import cv2\n",
    "import matplotlib.image as mpimg\n",
    "from skimage.feature import hog\n",
    "\n",
    "# These functions were based on functions from Udacity's Self-Driving Car Nanodegree Object Detection lesson\n",
    "# with minor changes.\n",
    "\n",
    "# Function to compute spatially binned color features  \n",
    "def bin_spatial(img, size=(32, 32)):\n",
    "    color1 = cv2.resize(img[:,:,0], size).ravel()\n",
    "    color2 = cv2.resize(img[:,:,1], size).ravel()\n",
    "    color3 = cv2.resize(img[:,:,2], size).ravel()\n",
    "    return np.hstack((color1, color2, color3))\n",
    "\n",
    "# Function to compute color histogram features  \n",
    "def color_hist(img, nbins=32):\n",
    "        \n",
    "    # Compute the histogram of the color channels separately\n",
    "    channel1_hist = np.histogram(img[:,:,0], bins=nbins)\n",
    "    channel2_hist = np.histogram(img[:,:,1], bins=nbins)\n",
    "    channel3_hist = np.histogram(img[:,:,2], bins=nbins)\n",
    "    \n",
    "    # Uncomment to visualize color histograms.\n",
    "#     bin_edges = channel1_hist[1]\n",
    "#     bin_centers = (bin_edges[1:]  + bin_edges[0:len(bin_edges)-1])/2\n",
    "\n",
    "#     fig = plt.figure(figsize=(12,3))\n",
    "#     plt.subplot(131)\n",
    "#     plt.bar(bin_centers, channel1_hist[0])\n",
    "#     plt.title('Channel 1 Histogram')\n",
    "#     plt.subplot(132)\n",
    "#     plt.bar(bin_centers, channel2_hist[0])\n",
    "#     plt.title('Channel 2 Histogram')\n",
    "#     plt.subplot(133)\n",
    "#     plt.bar(bin_centers, channel3_hist[0])\n",
    "#     plt.title('Channel 3 Histogram')\n",
    "\n",
    "    # Concatenate the histograms into a single feature vector\n",
    "    hist_features = np.concatenate((channel1_hist[0], channel2_hist[0], channel3_hist[0]))\n",
    "    return hist_features\n",
    "\n",
    "def get_hog_features(img, orient, pix_per_cell, cell_per_block, vis=False, \n",
    "                     feature_vec=True):\n",
    "    if vis == True:\n",
    "        features, hog_image = hog(img, orientations=orient, pixels_per_cell=(pix_per_cell, pix_per_cell),\n",
    "                                  cells_per_block=(cell_per_block, cell_per_block),\n",
    "                                  transform_sqrt=False, visualise=vis, feature_vector=feature_vec)\n",
    "        return features, hog_image\n",
    "    # Otherwise return one output\n",
    "    else:      \n",
    "        features = hog(img, orientations=orient, pixels_per_cell=(pix_per_cell, pix_per_cell),\n",
    "                       cells_per_block=(cell_per_block, cell_per_block),\n",
    "                       transform_sqrt=False, visualise=vis, feature_vector=feature_vec)\n",
    "        return features\n",
    "\n",
    "# Define a function to extract features from a list of images\n",
    "def extract_features(imgs, cspace='RGB', spatial_size=(32, 32),\n",
    "                     hist_bins=32, orient=9, pix_per_cell=8, \n",
    "                     cell_per_block=2, hog_channel=0):\n",
    "    # Create a list to append feature vectors to\n",
    "    features = []\n",
    "    # Iterate through the list of images\n",
    "    for img_file in imgs:\n",
    "        # Read in each one by one\n",
    "        img = mpimg.imread(img_file)\n",
    "        # Apply color conversion if other than 'RGB'\n",
    "        if cspace is 'HSV':\n",
    "            feature_img = cv2.cvtColor(img, cv2.COLOR_RGB2HSV)\n",
    "        elif cspace == 'LUV':\n",
    "            feature_img = cv2.cvtColor(img, cv2.COLOR_RGB2LUV)\n",
    "        elif cspace == 'HLS':\n",
    "            feature_img = cv2.cvtColor(img, cv2.COLOR_RGB2HLS)\n",
    "        elif cspace == 'YUV':\n",
    "            feature_img = cv2.cvtColor(img, cv2.COLOR_RGB2YUV)\n",
    "        elif cspace == 'YCrCb':\n",
    "            feature_img = cv2.cvtColor(img, cv2.COLOR_RGB2YCrCb)\n",
    "        \n",
    "        # Apply bin_spatial() to get spatial color features\n",
    "        spatial_features = bin_spatial(feature_img, spatial_size)\n",
    "        # Apply color_hist() to get color histogram features\n",
    "        color_features = color_hist(feature_img, hist_bins)\n",
    "        # Apply get_hog_features() to get hog features\n",
    "        if hog_channel == 'ALL':\n",
    "            hog_features = []\n",
    "            for channel in range(feature_img.shape[2]):\n",
    "                hog_features.append(get_hog_features(feature_img[:,:,channel], \n",
    "                                    orient, pix_per_cell, cell_per_block, \n",
    "                                    vis=False, feature_vec=True))\n",
    "            hog_features = np.ravel(hog_features)        \n",
    "        else:\n",
    "            hog_features = get_hog_features(feature_img[:,:,hog_channel], orient, \n",
    "                        pix_per_cell, cell_per_block, vis=False, feature_vec=True)\n",
    "        # Append the new feature vector to the features list\n",
    "        features.append(np.concatenate((spatial_features, color_features, hog_features)))\n",
    "    # Return list of feature vectors\n",
    "    return features"
   ]
  },
  {
   "cell_type": "code",
   "execution_count": 198,
   "metadata": {
    "collapsed": false
   },
   "outputs": [
    {
     "data": {
      "text/plain": [
       "[<matplotlib.lines.Line2D at 0x11ec7aa90>]"
      ]
     },
     "execution_count": 198,
     "metadata": {},
     "output_type": "execute_result"
    },
    {
     "data": {
      "image/png": "[encoded data removed]",
      "text/plain": [
       "<matplotlib.figure.Figure at 0x1223253c8>"
      ]
     },
     "metadata": {},
     "output_type": "display_data"
    },
    {
     "data": {
      "image/png": "[encoded data removed]",
      "text/plain": [
       "<matplotlib.figure.Figure at 0x1249a9f98>"
      ]
     },
     "metadata": {},
     "output_type": "display_data"
    },
    {
     "data": {
      "image/png": "[encoded data removed]",
      "text/plain": [
       "<matplotlib.figure.Figure at 0x11db387f0>"
      ]
     },
     "metadata": {},
     "output_type": "display_data"
    },
    {
     "data": {
      "image/png": "[encoded data removed]",
      "text/plain": [
       "<matplotlib.figure.Figure at 0x11d44bc18>"
      ]
     },
     "metadata": {},
     "output_type": "display_data"
    },
    {
     "data": {
      "image/png": "[encoded data removed]",
      "text/plain": [
       "<matplotlib.figure.Figure at 0x11dd3fbe0>"
      ]
     },
     "metadata": {},
     "output_type": "display_data"
    },
    {
     "data": {
      "image/png": "[encoded data removed]",
      "text/plain": [
       "<matplotlib.figure.Figure at 0x123013898>"
      ]
     },
     "metadata": {},
     "output_type": "display_data"
    },
    {
     "data": {
      "image/png": "[encoded data removed]",
      "text/plain": [
       "<matplotlib.figure.Figure at 0x127874208>"
      ]
     },
     "metadata": {},
     "output_type": "display_data"
    }
   ],
   "source": [
    "# This code block is for testing and visualizing individual features\n",
    "car_img = mpimg.imread('vehicles/GTI_Far/image0007.png')\n",
    "non_car_img = mpimg.imread('non-vehicles/GTI/image8.png')\n",
    "\n",
    "car_img = cv2.cvtColor(car_img, cv2.COLOR_RGB2YCrCb)\n",
    "non_car_img = cv2.cvtColor(non_car_img, cv2.COLOR_RGB2YCrCb)\n",
    "\n",
    "car_spatial = bin_spatial(car_img)\n",
    "car_hist = color_hist(car_img)\n",
    "\n",
    "non_car_spatial = bin_spatial(non_car_img)\n",
    "non_car_hist = color_hist(non_car_img)\n",
    "\n",
    "features, car_hog_img1 = get_hog_features(car_img[:,:,0], orient=9, pix_per_cell=2, cell_per_block=2, \n",
    "                                          vis=True, feature_vec=True)\n",
    "features, car_hog_img2 = get_hog_features(car_img[:,:,1], orient=9, pix_per_cell=2, cell_per_block=2, \n",
    "                                          vis=True, feature_vec=True)\n",
    "features, car_hog_img3 = get_hog_features(car_img[:,:,2], orient=9, pix_per_cell=2, cell_per_block=2, \n",
    "                                          vis=True, feature_vec=True)\n",
    "features, non_car_hog_img1 = get_hog_features(non_car_img[:,:,0], orient=9, pix_per_cell=2, cell_per_block=2, \n",
    "                                          vis=True, feature_vec=True)\n",
    "features, non_car_hog_img2 = get_hog_features(non_car_img[:,:,1], orient=9, pix_per_cell=2, cell_per_block=2, \n",
    "                                          vis=True, feature_vec=True)\n",
    "features, non_car_hog_img3 = get_hog_features(non_car_img[:,:,2], orient=9, pix_per_cell=2, cell_per_block=2, \n",
    "                                          vis=True, feature_vec=True)\n",
    "plt.figure()\n",
    "plt.imshow(non_car_img[:,:,0], cmap='gray')\n",
    "plt.figure()\n",
    "plt.imshow(non_car_img[:,:,1], cmap='gray')\n",
    "plt.figure()\n",
    "plt.imshow(non_car_img[:,:,2], cmap='gray')\n",
    "plt.figure()\n",
    "plt.imshow(non_car_img)\n",
    "plt.figure()\n",
    "plt.plot(non_car_spatial)"
   ]
  },
  {
   "cell_type": "markdown",
   "metadata": {
    "deletable": true,
    "editable": true
   },
   "source": [
    "## 2. Train a Linear SVM Classifier"
   ]
  },
  {
   "cell_type": "code",
   "execution_count": 3,
   "metadata": {
    "collapsed": false,
    "deletable": true,
    "editable": true
   },
   "outputs": [],
   "source": [
    "from sklearn.preprocessing import StandardScaler\n",
    "from sklearn.svm import LinearSVC\n",
    "from sklearn.cross_validation import train_test_split\n",
    "from sklearn import grid_search\n",
    "\n",
    "# This function was based on code from Udacity's Self-Driving Car Nanodegree Object Detection lesson\n",
    "# with minor changes.\n",
    "\n",
    "# Train a Linear SVM classifier with positive and negative class features.\n",
    "def train_svm_classifier(pos_features, neg_features):\n",
    "    # Create an array stack of feature vectors\n",
    "    X = np.vstack((pos_features, neg_features)).astype(np.float64)\n",
    "\n",
    "    # Define the labels vector\n",
    "    y = np.hstack((np.ones(len(pos_features)), np.zeros(len(neg_features))))\n",
    "\n",
    "    # Split up data into randomized training and test sets\n",
    "    rand_state = np.random.randint(0, 100)\n",
    "    X_train, X_test, y_train, y_test = train_test_split(X, y, test_size=0.2, random_state=rand_state)\n",
    "    \n",
    "    # Fit a per-column scaler only on the training data\n",
    "    X_scaler = StandardScaler().fit(X_train)\n",
    "    # Apply the scaler to X_train and X_test\n",
    "    X_train = X_scaler.transform(X_train)\n",
    "    X_test = X_scaler.transform(X_test)\n",
    "    \n",
    "    # Use a linear SVC \n",
    "    svc = LinearSVC()\n",
    "    # Parameter search for the best C value\n",
    "    svc = grid_search.GridSearchCV(svc, {'C':[0.1,0.5,1,5,10]})\n",
    "    svc.fit(X_train, y_train)\n",
    "    \n",
    "    # Check the score of the SVC\n",
    "    print('Best C was = ', svc.best_params_)\n",
    "    print('Test Accuracy of SVC = ', round(svc.score(X_test, y_test), 4))\n",
    "    return X_scaler, svc"
   ]
  },
  {
   "cell_type": "code",
   "execution_count": 147,
   "metadata": {
    "collapsed": false,
    "deletable": true,
    "editable": true
   },
   "outputs": [],
   "source": [
    "# # This code block processes Udacity data to augment image training set\n",
    "# import pandas as pd\n",
    "\n",
    "# sample_img = mpimg.imread(vehicle_images[0])\n",
    "# udacity_data = pd.read_csv('labels_crowdai.csv', sep=',',header=None)\n",
    "# car_data = udacity_data.loc[udacity_data[5] == 'Pedestrian']\n",
    "# for index, row in car_data.iterrows():\n",
    "#     img = cv2.imread('object-detection-crowdai/' + str(row[4]))\n",
    "#     if (int(row[3]) <= int(row[1]) or int(row[2]) <= int(row[0])):\n",
    "#         continue\n",
    "#     vehicle = img[int(row[1]):int(row[3]),int(row[0]):int(row[2])]\n",
    "#     vehicle = cv2.resize(vehicle, (64,64))\n",
    "#     cv2.imwrite('non-vehicles/udacity_data/' + str(row[4]), vehicle)"
   ]
  },
  {
   "cell_type": "code",
   "execution_count": 4,
   "metadata": {
    "collapsed": false,
    "deletable": true,
    "editable": true
   },
   "outputs": [
    {
     "name": "stdout",
     "output_type": "stream",
     "text": [
      "8792\n",
      "8968\n",
      "Best C was =  {'C': 0.1}\n",
      "Test Accuracy of SVC =  0.9944\n"
     ]
    }
   ],
   "source": [
    "import glob\n",
    "\n",
    "# Read in GTI and KITTI data\n",
    "vehicle_images = glob.glob('vehicles/GTI_Far/*.png')\n",
    "vehicle_images += glob.glob('vehicles/GTI_Left/*.png')\n",
    "vehicle_images += glob.glob('vehicles/GTI_MiddleClose/*.png')\n",
    "vehicle_images += glob.glob('vehicles/GTI_Right/*.png')\n",
    "vehicle_images += glob.glob('vehicles/KITTI_extracted/*.png')\n",
    "#vehicle_images += glob.glob('vehicles/udacity_data/*.jpg')\n",
    "\n",
    "non_vehicle_images = glob.glob('non-vehicles/Extras/*.png')\n",
    "non_vehicle_images += glob.glob('non-vehicles/GTI/*.png')\n",
    "#non_vehicle_images += glob.glob('non-vehicles/udacity_data/*.jpg')\n",
    "\n",
    "print(len(vehicle_images))\n",
    "print(len(non_vehicle_images))\n",
    "\n",
    "# Extract features from the training set and train the Linear SVM classifier\n",
    "pos_features = extract_features(vehicle_images, cspace='YCrCb', hog_channel='ALL')\n",
    "neg_features = extract_features(non_vehicle_images, cspace='YCrCb', hog_channel='ALL')\n",
    "X_scaler, svc = train_svm_classifier(pos_features, neg_features)"
   ]
  },
  {
   "cell_type": "markdown",
   "metadata": {
    "deletable": true,
    "editable": true
   },
   "source": [
    "## 3. Implement Sliding Window"
   ]
  },
  {
   "cell_type": "code",
   "execution_count": 5,
   "metadata": {
    "collapsed": false,
    "deletable": true,
    "editable": true
   },
   "outputs": [],
   "source": [
    "# This function was based on code from Udacity's Self-Driving Car Nanodegree Object Detection lesson\n",
    "# with minor changes.\n",
    "# Define a single function that can extract features using HOG sub-sampling\n",
    "def sliding_window_search(img, ystart, ystop, svc, X_scaler, scale=1, orient=9, pix_per_cell=8, cell_per_block=2, \n",
    "                          spatial_size=(32,32), hist_bins=32, cspace='RGB'):\n",
    "    \n",
    "    draw_img = np.copy(img)\n",
    "    img = img.astype(np.float32)/255\n",
    "    \n",
    "    img_to_search = img[ystart:ystop,:,:]\n",
    "    # Apply color conversion if other than 'RGB'\n",
    "    if cspace is 'HSV':\n",
    "        cimg_to_search = cv2.cvtColor(img_to_search, cv2.COLOR_RGB2HSV)\n",
    "    elif cspace is 'LUV':\n",
    "        cimg_to_search = cv2.cvtColor(img_to_search, cv2.COLOR_RGB2LUV)\n",
    "    elif cspace is 'HLS':\n",
    "        cimg_to_search = cv2.cvtColor(img_to_search, cv2.COLOR_RGB2HLS)\n",
    "    elif cspace is 'YUV':\n",
    "        cimg_to_search = cv2.cvtColor(img_to_search, cv2.COLOR_RGB2YUV)\n",
    "    elif cspace is 'YCrCb':\n",
    "        cimg_to_search = cv2.cvtColor(img_to_search, cv2.COLOR_RGB2YCrCb)\n",
    "    \n",
    "    # Scale the image\n",
    "    if scale != 1:\n",
    "        img_shape = cimg_to_search.shape\n",
    "        cimg_to_search = cv2.resize(cimg_to_search, (np.int(img_shape[1]/scale), np.int(img_shape[0]/scale)))\n",
    "        \n",
    "    ch1 = cimg_to_search[:,:,0]\n",
    "    ch2 = cimg_to_search[:,:,1]\n",
    "    ch3 = cimg_to_search[:,:,2]\n",
    "\n",
    "    # Define blocks and steps\n",
    "    nxblocks = (ch1.shape[1] // pix_per_cell) - cell_per_block + 1\n",
    "    nyblocks = (ch1.shape[0] // pix_per_cell) - cell_per_block + 1 \n",
    "    nfeat_per_block = orient*cell_per_block**2\n",
    "    \n",
    "    # 64 was the orginal sampling rate, with 8 cells and 8 pix per cell\n",
    "    window = 64\n",
    "    nblocks_per_window = (window // pix_per_cell) - cell_per_block + 1\n",
    "    cells_per_step = 2  # Instead of overlap, define how many cells to step\n",
    "    nxsteps = (nxblocks - nblocks_per_window) // cells_per_step + 1\n",
    "    nysteps = (nyblocks - nblocks_per_window) // cells_per_step + 1\n",
    "    \n",
    "    # Compute individual channel HOG features for the entire image\n",
    "    hog1 = get_hog_features(ch1, orient, pix_per_cell, cell_per_block, feature_vec=False)\n",
    "    hog2 = get_hog_features(ch2, orient, pix_per_cell, cell_per_block, feature_vec=False)\n",
    "    hog3 = get_hog_features(ch3, orient, pix_per_cell, cell_per_block, feature_vec=False)\n",
    "    \n",
    "    bbox_list = []\n",
    "    for xb in range(nxsteps):\n",
    "        for yb in range(nysteps):\n",
    "            ypos = yb*cells_per_step\n",
    "            xpos = xb*cells_per_step\n",
    "            # Extract HOG for this patch\n",
    "            hog_feat1 = hog1[ypos:ypos+nblocks_per_window, xpos:xpos+nblocks_per_window].ravel() \n",
    "            hog_feat2 = hog2[ypos:ypos+nblocks_per_window, xpos:xpos+nblocks_per_window].ravel() \n",
    "            hog_feat3 = hog3[ypos:ypos+nblocks_per_window, xpos:xpos+nblocks_per_window].ravel() \n",
    "            hog_features = np.hstack((hog_feat1, hog_feat2, hog_feat3))\n",
    "\n",
    "            xleft = xpos*pix_per_cell\n",
    "            ytop = ypos*pix_per_cell\n",
    "\n",
    "            # Extract the image patch\n",
    "            subimg = cv2.resize(cimg_to_search[ytop:ytop+window, xleft:xleft+window], (64,64))\n",
    "          \n",
    "            # Get color features\n",
    "            spatial_features = bin_spatial(subimg, size=spatial_size)\n",
    "            color_features = color_hist(subimg, hist_bins)\n",
    "            \n",
    "            # Scale features and make a prediction\n",
    "            features = np.hstack(np.concatenate((spatial_features, color_features, hog_features)))\n",
    "            test_features = X_scaler.transform(features)  \n",
    "            test_prediction = svc.predict(test_features)\n",
    "            \n",
    "            if test_prediction == 1:\n",
    "                xbox_left = np.int(xleft*scale)\n",
    "                ytop_draw = np.int(ytop*scale)\n",
    "                win_draw = np.int(window*scale)\n",
    "                bbox = ((xbox_left, ytop_draw+ystart),(xbox_left+win_draw,ytop_draw+win_draw+ystart))\n",
    "                cv2.rectangle(draw_img,bbox[0],bbox[1],(0,0,255),6)\n",
    "                bbox_list.append(bbox)\n",
    "                \n",
    "    return bbox_list, draw_img"
   ]
  },
  {
   "cell_type": "markdown",
   "metadata": {
    "deletable": true,
    "editable": true
   },
   "source": [
    "## 4. Create a Heatmap to Reject Outliers"
   ]
  },
  {
   "cell_type": "code",
   "execution_count": 6,
   "metadata": {
    "collapsed": true,
    "deletable": true,
    "editable": true
   },
   "outputs": [],
   "source": [
    "# These functions were based on functions from Udacity's Self-Driving Car Nanodegree Object Detection lesson\n",
    "# with minor changes.\n",
    "\n",
    "# Update the heatmap\n",
    "def update_heat(heatmap, bbox_list, threshold):\n",
    "    for box in bbox_list:\n",
    "        # Add 1 for all pixels inside each bbox\n",
    "        # Assuming each \"box\" takes the form ((x1, y1), (x2, y2))\n",
    "        heatmap[box[0][1]:box[1][1], box[0][0]:box[1][0]] += 1\n",
    "\n",
    "    # Return updated heatmap\n",
    "    return heatmap\n",
    "\n",
    "# Zero out areas of the heatmap below a threshold\n",
    "def apply_heatmap_threshold(heatmap, threshold):\n",
    "    # Zero out pixels below the threshold\n",
    "    heatmap[heatmap <= threshold] = 0\n",
    "    # Return thresholded map\n",
    "    return heatmap\n",
    "\n",
    "# Draw filtered bounding boxes\n",
    "def draw_labeled_bboxes(img, labels):\n",
    "    # Iterate through all detected cars\n",
    "    for car_number in range(1, labels[1]+1):\n",
    "        # Find pixels with each car_number label value\n",
    "        nonzero = (labels[0] == car_number).nonzero()\n",
    "        # Identify x and y values of those pixels\n",
    "        nonzeroy = np.array(nonzero[0])\n",
    "        nonzerox = np.array(nonzero[1])\n",
    "        # Define a bounding box based on min/max x and y\n",
    "        bbox = ((np.min(nonzerox), np.min(nonzeroy)), (np.max(nonzerox), np.max(nonzeroy)))\n",
    "        # Draw the box on the image\n",
    "        cv2.rectangle(img, bbox[0], bbox[1], (0,0,255), 6)\n",
    "    # Return the image\n",
    "    return img"
   ]
  },
  {
   "cell_type": "markdown",
   "metadata": {
    "deletable": true,
    "editable": true
   },
   "source": [
    "## 5. Run the Pipeline on a Video Stream"
   ]
  },
  {
   "cell_type": "code",
   "execution_count": 14,
   "metadata": {
    "collapsed": false,
    "deletable": true,
    "editable": true
   },
   "outputs": [
    {
     "name": "stdout",
     "output_type": "stream",
     "text": [
      "1\n",
      "2\n"
     ]
    },
    {
     "ename": "KeyboardInterrupt",
     "evalue": "",
     "output_type": "error",
     "traceback": [
      "\u001b[0;31m---------------------------------------------------------------------------\u001b[0m",
      "\u001b[0;31mKeyboardInterrupt\u001b[0m                         Traceback (most recent call last)",
      "\u001b[0;32m<ipython-input-14-867f60bba451>\u001b[0m in \u001b[0;36m<module>\u001b[0;34m()\u001b[0m\n\u001b[1;32m     25\u001b[0m \u001b[0;34m\u001b[0m\u001b[0m\n\u001b[1;32m     26\u001b[0m     \u001b[0;31m# Find cars\u001b[0m\u001b[0;34m\u001b[0m\u001b[0;34m\u001b[0m\u001b[0m\n\u001b[0;32m---> 27\u001b[0;31m     \u001b[0mbbox_list1\u001b[0m\u001b[0;34m,\u001b[0m \u001b[0mdraw_image1\u001b[0m \u001b[0;34m=\u001b[0m \u001b[0msliding_window_search\u001b[0m\u001b[0;34m(\u001b[0m\u001b[0mimg\u001b[0m\u001b[0;34m,\u001b[0m \u001b[0mystart\u001b[0m\u001b[0;34m,\u001b[0m \u001b[0mystop\u001b[0m\u001b[0;34m,\u001b[0m \u001b[0msvc\u001b[0m\u001b[0;34m,\u001b[0m \u001b[0mX_scaler\u001b[0m\u001b[0;34m,\u001b[0m \u001b[0mscale\u001b[0m\u001b[0;34m=\u001b[0m\u001b[0;36m1\u001b[0m\u001b[0;34m,\u001b[0m \u001b[0mcspace\u001b[0m\u001b[0;34m=\u001b[0m\u001b[0;34m'YCrCb'\u001b[0m\u001b[0;34m)\u001b[0m\u001b[0;34m\u001b[0m\u001b[0m\n\u001b[0m\u001b[1;32m     28\u001b[0m     \u001b[0mbbox_list15\u001b[0m\u001b[0;34m,\u001b[0m \u001b[0mdraw_image2\u001b[0m \u001b[0;34m=\u001b[0m \u001b[0msliding_window_search\u001b[0m\u001b[0;34m(\u001b[0m\u001b[0mimg\u001b[0m\u001b[0;34m,\u001b[0m \u001b[0mystart\u001b[0m\u001b[0;34m,\u001b[0m \u001b[0mystop\u001b[0m\u001b[0;34m,\u001b[0m \u001b[0msvc\u001b[0m\u001b[0;34m,\u001b[0m \u001b[0mX_scaler\u001b[0m\u001b[0;34m,\u001b[0m \u001b[0mscale\u001b[0m\u001b[0;34m=\u001b[0m\u001b[0;36m1.5\u001b[0m\u001b[0;34m,\u001b[0m \u001b[0mcspace\u001b[0m\u001b[0;34m=\u001b[0m\u001b[0;34m'YCrCb'\u001b[0m\u001b[0;34m)\u001b[0m\u001b[0;34m\u001b[0m\u001b[0m\n\u001b[1;32m     29\u001b[0m     \u001b[0mbbox_list2\u001b[0m\u001b[0;34m,\u001b[0m \u001b[0mdraw_image3\u001b[0m \u001b[0;34m=\u001b[0m \u001b[0msliding_window_search\u001b[0m\u001b[0;34m(\u001b[0m\u001b[0mimg\u001b[0m\u001b[0;34m,\u001b[0m \u001b[0mystart\u001b[0m\u001b[0;34m,\u001b[0m \u001b[0mystop\u001b[0m\u001b[0;34m,\u001b[0m \u001b[0msvc\u001b[0m\u001b[0;34m,\u001b[0m \u001b[0mX_scaler\u001b[0m\u001b[0;34m,\u001b[0m \u001b[0mscale\u001b[0m\u001b[0;34m=\u001b[0m\u001b[0;36m2\u001b[0m\u001b[0;34m,\u001b[0m \u001b[0mcspace\u001b[0m\u001b[0;34m=\u001b[0m\u001b[0;34m'YCrCb'\u001b[0m\u001b[0;34m)\u001b[0m\u001b[0;34m\u001b[0m\u001b[0m\n",
      "\u001b[0;32m<ipython-input-5-b8501b375b5a>\u001b[0m in \u001b[0;36msliding_window_search\u001b[0;34m(img, ystart, ystop, svc, X_scaler, scale, orient, pix_per_cell, cell_per_block, spatial_size, hist_bins, cspace)\u001b[0m\n\u001b[1;32m     68\u001b[0m \u001b[0;34m\u001b[0m\u001b[0m\n\u001b[1;32m     69\u001b[0m             \u001b[0;31m# Scale features and make a prediction\u001b[0m\u001b[0;34m\u001b[0m\u001b[0;34m\u001b[0m\u001b[0m\n\u001b[0;32m---> 70\u001b[0;31m             \u001b[0mfeatures\u001b[0m \u001b[0;34m=\u001b[0m \u001b[0mnp\u001b[0m\u001b[0;34m.\u001b[0m\u001b[0mhstack\u001b[0m\u001b[0;34m(\u001b[0m\u001b[0mnp\u001b[0m\u001b[0;34m.\u001b[0m\u001b[0mconcatenate\u001b[0m\u001b[0;34m(\u001b[0m\u001b[0;34m(\u001b[0m\u001b[0mspatial_features\u001b[0m\u001b[0;34m,\u001b[0m \u001b[0mcolor_features\u001b[0m\u001b[0;34m,\u001b[0m \u001b[0mhog_features\u001b[0m\u001b[0;34m)\u001b[0m\u001b[0;34m)\u001b[0m\u001b[0;34m)\u001b[0m\u001b[0;34m\u001b[0m\u001b[0m\n\u001b[0m\u001b[1;32m     71\u001b[0m             \u001b[0mtest_features\u001b[0m \u001b[0;34m=\u001b[0m \u001b[0mX_scaler\u001b[0m\u001b[0;34m.\u001b[0m\u001b[0mtransform\u001b[0m\u001b[0;34m(\u001b[0m\u001b[0mfeatures\u001b[0m\u001b[0;34m)\u001b[0m\u001b[0;34m\u001b[0m\u001b[0m\n\u001b[1;32m     72\u001b[0m             \u001b[0mtest_prediction\u001b[0m \u001b[0;34m=\u001b[0m \u001b[0msvc\u001b[0m\u001b[0;34m.\u001b[0m\u001b[0mpredict\u001b[0m\u001b[0;34m(\u001b[0m\u001b[0mtest_features\u001b[0m\u001b[0;34m)\u001b[0m\u001b[0;34m\u001b[0m\u001b[0m\n",
      "\u001b[0;32m/Users/tiffany/miniconda3/envs/carnd-term1/lib/python3.5/site-packages/numpy/core/shape_base.py\u001b[0m in \u001b[0;36mhstack\u001b[0;34m(tup)\u001b[0m\n\u001b[1;32m    281\u001b[0m \u001b[0;34m\u001b[0m\u001b[0m\n\u001b[1;32m    282\u001b[0m     \"\"\"\n\u001b[0;32m--> 283\u001b[0;31m     \u001b[0marrs\u001b[0m \u001b[0;34m=\u001b[0m \u001b[0;34m[\u001b[0m\u001b[0matleast_1d\u001b[0m\u001b[0;34m(\u001b[0m\u001b[0m_m\u001b[0m\u001b[0;34m)\u001b[0m \u001b[0;32mfor\u001b[0m \u001b[0m_m\u001b[0m \u001b[0;32min\u001b[0m \u001b[0mtup\u001b[0m\u001b[0;34m]\u001b[0m\u001b[0;34m\u001b[0m\u001b[0m\n\u001b[0m\u001b[1;32m    284\u001b[0m     \u001b[0;31m# As a special case, dimension 0 of 1-dimensional arrays is \"horizontal\"\u001b[0m\u001b[0;34m\u001b[0m\u001b[0;34m\u001b[0m\u001b[0m\n\u001b[1;32m    285\u001b[0m     \u001b[0;32mif\u001b[0m \u001b[0marrs\u001b[0m\u001b[0;34m[\u001b[0m\u001b[0;36m0\u001b[0m\u001b[0;34m]\u001b[0m\u001b[0;34m.\u001b[0m\u001b[0mndim\u001b[0m \u001b[0;34m==\u001b[0m \u001b[0;36m1\u001b[0m\u001b[0;34m:\u001b[0m\u001b[0;34m\u001b[0m\u001b[0m\n",
      "\u001b[0;32m/Users/tiffany/miniconda3/envs/carnd-term1/lib/python3.5/site-packages/numpy/core/shape_base.py\u001b[0m in \u001b[0;36m<listcomp>\u001b[0;34m(.0)\u001b[0m\n\u001b[1;32m    281\u001b[0m \u001b[0;34m\u001b[0m\u001b[0m\n\u001b[1;32m    282\u001b[0m     \"\"\"\n\u001b[0;32m--> 283\u001b[0;31m     \u001b[0marrs\u001b[0m \u001b[0;34m=\u001b[0m \u001b[0;34m[\u001b[0m\u001b[0matleast_1d\u001b[0m\u001b[0;34m(\u001b[0m\u001b[0m_m\u001b[0m\u001b[0;34m)\u001b[0m \u001b[0;32mfor\u001b[0m \u001b[0m_m\u001b[0m \u001b[0;32min\u001b[0m \u001b[0mtup\u001b[0m\u001b[0;34m]\u001b[0m\u001b[0;34m\u001b[0m\u001b[0m\n\u001b[0m\u001b[1;32m    284\u001b[0m     \u001b[0;31m# As a special case, dimension 0 of 1-dimensional arrays is \"horizontal\"\u001b[0m\u001b[0;34m\u001b[0m\u001b[0;34m\u001b[0m\u001b[0m\n\u001b[1;32m    285\u001b[0m     \u001b[0;32mif\u001b[0m \u001b[0marrs\u001b[0m\u001b[0;34m[\u001b[0m\u001b[0;36m0\u001b[0m\u001b[0;34m]\u001b[0m\u001b[0;34m.\u001b[0m\u001b[0mndim\u001b[0m \u001b[0;34m==\u001b[0m \u001b[0;36m1\u001b[0m\u001b[0;34m:\u001b[0m\u001b[0;34m\u001b[0m\u001b[0m\n",
      "\u001b[0;32m/Users/tiffany/miniconda3/envs/carnd-term1/lib/python3.5/site-packages/numpy/core/shape_base.py\u001b[0m in \u001b[0;36matleast_1d\u001b[0;34m(*arys)\u001b[0m\n\u001b[1;32m     50\u001b[0m         \u001b[0mary\u001b[0m \u001b[0;34m=\u001b[0m \u001b[0masanyarray\u001b[0m\u001b[0;34m(\u001b[0m\u001b[0mary\u001b[0m\u001b[0;34m)\u001b[0m\u001b[0;34m\u001b[0m\u001b[0m\n\u001b[1;32m     51\u001b[0m         \u001b[0;32mif\u001b[0m \u001b[0mlen\u001b[0m\u001b[0;34m(\u001b[0m\u001b[0mary\u001b[0m\u001b[0;34m.\u001b[0m\u001b[0mshape\u001b[0m\u001b[0;34m)\u001b[0m \u001b[0;34m==\u001b[0m \u001b[0;36m0\u001b[0m\u001b[0;34m:\u001b[0m\u001b[0;34m\u001b[0m\u001b[0m\n\u001b[0;32m---> 52\u001b[0;31m             \u001b[0mresult\u001b[0m \u001b[0;34m=\u001b[0m \u001b[0mary\u001b[0m\u001b[0;34m.\u001b[0m\u001b[0mreshape\u001b[0m\u001b[0;34m(\u001b[0m\u001b[0;36m1\u001b[0m\u001b[0;34m)\u001b[0m\u001b[0;34m\u001b[0m\u001b[0m\n\u001b[0m\u001b[1;32m     53\u001b[0m         \u001b[0;32melse\u001b[0m\u001b[0;34m:\u001b[0m\u001b[0;34m\u001b[0m\u001b[0m\n\u001b[1;32m     54\u001b[0m             \u001b[0mresult\u001b[0m \u001b[0;34m=\u001b[0m \u001b[0mary\u001b[0m\u001b[0;34m\u001b[0m\u001b[0m\n",
      "\u001b[0;31mKeyboardInterrupt\u001b[0m: "
     ]
    }
   ],
   "source": [
    "# This code block runs the entire vehicle detection pipeline on a video stream.\n",
    "from moviepy.editor import VideoFileClip, ImageSequenceClip\n",
    "from scipy.ndimage.measurements import label\n",
    "import matplotlib.pyplot as plt\n",
    "%matplotlib inline\n",
    "\n",
    "# Input video stream\n",
    "project_video = VideoFileClip(\"project_video.mp4\")\n",
    "\n",
    "# Define region of interest where searching will be done\n",
    "ystart = 400\n",
    "ystop = 656\n",
    "\n",
    "# Heatmap threshold\n",
    "heatmap_threshold = 2\n",
    "\n",
    "images_list = []\n",
    "counter = 0\n",
    "for img in project_video.iter_frames():\n",
    "#for img_file in glob.glob('test_images/*.jpg'):\n",
    "    #img = mpimg.imread(img_file)\n",
    "    counter = counter + 1\n",
    "    print(counter)\n",
    "    heatmap = np.zeros_like(img[:,:,0]).astype(np.float)\n",
    "        \n",
    "    # Find cars\n",
    "    bbox_list1, draw_image1 = sliding_window_search(img, ystart, ystop, svc, X_scaler, scale=1, cspace='YCrCb')\n",
    "    bbox_list15, draw_image2 = sliding_window_search(img, ystart, ystop, svc, X_scaler, scale=1.5, cspace='YCrCb')\n",
    "    bbox_list2, draw_image3 = sliding_window_search(img, ystart, ystop, svc, X_scaler, scale=2, cspace='YCrCb')\n",
    "    \n",
    "    # Update heatmap\n",
    "    bbox_list = bbox_list1 + bbox_list15 + bbox_list2\n",
    "    #print(bbox_list)\n",
    "    heatmap = update_heat(heatmap, bbox_list, heatmap_threshold)\n",
    "    heatmap = apply_heatmap_threshold(heatmap, heatmap_threshold)\n",
    "    \n",
    "    # Visualize the heatmap    \n",
    "    #heatmap = np.clip(heatmap, 0, 255)\n",
    "    #plt.figure()\n",
    "    #plt.imshow(heatmap, cmap='hot')\n",
    "    \n",
    "    # Find labels from heatmap\n",
    "    labels = label(heatmap)\n",
    "    #plt.figure()\n",
    "    #plt.imshow(labels[0], cmap='gray')\n",
    "    draw_img = draw_labeled_bboxes(np.copy(img), labels)\n",
    "\n",
    "    #draw_img_test = np.copy(img)\n",
    "    #for bbox in bbox_list:\n",
    "        #cv2.rectangle(draw_img_test,bbox[0],bbox[1],(0,0,255),6)\n",
    "    #plt.figure()\n",
    "    #plt.imshow(draw_img_test)\n",
    "    #plt.figure()\n",
    "    #plt.imshow(draw_img)\n",
    "    images_list.append(draw_img)\n",
    "    \n",
    "# Write the output video\n",
    "video_output = 'vehicle_detection_project_video.mp4'\n",
    "lane_clip = ImageSequenceClip(images_list, project_video.fps)\n",
    "lane_clip.write_videofile(video_output, audio=False)\n",
    "    "
   ]
  },
  {
   "cell_type": "code",
   "execution_count": null,
   "metadata": {
    "collapsed": true,
    "deletable": true,
    "editable": true
   },
   "outputs": [],
   "source": []
  }
 ],
 "metadata": {
  "anaconda-cloud": {},
  "kernelspec": {
   "display_name": "Python 3",
   "language": "python",
   "name": "python3"
  },
  "language_info": {
   "codemirror_mode": {
    "name": "ipython",
    "version": 3
   },
   "file_extension": ".py",
   "mimetype": "text/x-python",
   "name": "python",
   "nbconvert_exporter": "python",
   "pygments_lexer": "ipython3",
   "version": "3.5.2"
  },
  "widgets": {
   "state": {},
   "version": "1.1.2"
  }
 },
 "nbformat": 4,
 "nbformat_minor": 1
}
